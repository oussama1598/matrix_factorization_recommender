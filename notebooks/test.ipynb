{
 "cells": [
  {
   "cell_type": "code",
   "execution_count": 1,
   "metadata": {},
   "outputs": [],
   "source": [
    "from pyspark.ml.evaluation import RegressionEvaluator\n",
    "from pyspark.ml.recommendation import ALS\n",
    "from pyspark.sql import Row, SparkSession"
   ]
  },
  {
   "cell_type": "code",
   "execution_count": 2,
   "metadata": {
    "pycharm": {
     "name": "#%%\n"
    }
   },
   "outputs": [
    {
     "name": "stderr",
     "output_type": "stream",
     "text": [
      "22/02/01 13:03:08 WARN Utils: Your hostname, oussama-pc resolves to a loopback address: 127.0.1.1; using 192.168.1.9 instead (on interface wlp3s0)\n",
      "22/02/01 13:03:08 WARN Utils: Set SPARK_LOCAL_IP if you need to bind to another address\n",
      "Using Spark's default log4j profile: org/apache/spark/log4j-defaults.properties\n",
      "Setting default log level to \"WARN\".\n",
      "To adjust logging level use sc.setLogLevel(newLevel). For SparkR, use setLogLevel(newLevel).\n",
      "22/02/01 13:03:10 WARN NativeCodeLoader: Unable to load native-hadoop library for your platform... using builtin-java classes where applicable\n"
     ]
    }
   ],
   "source": [
    "spark = SparkSession.builder.appName('Basics').getOrCreate()"
   ]
  },
  {
   "cell_type": "code",
   "execution_count": 3,
   "metadata": {
    "pycharm": {
     "name": "#%%\n"
    }
   },
   "outputs": [],
   "source": [
    "from pyspark.sql.types import StructType, StructField, IntegerType, FloatType\n",
    "\n",
    "schema = StructType([\n",
    "    StructField(\"user_id\", IntegerType(), True),\n",
    "    StructField(\"book_id\", IntegerType(), True),\n",
    "    StructField(\"is_read\", IntegerType(), True),\n",
    "    StructField(\"rating\", FloatType(), True)])\n",
    "\n",
    "\n",
    "ratings = spark.read.csv(\"data/books_ratings.csv\", header=True, schema=schema)\n",
    "(training, test) = ratings.randomSplit([0.8, 0.2])"
   ]
  },
  {
   "cell_type": "code",
   "execution_count": 4,
   "metadata": {
    "pycharm": {
     "name": "#%%\n"
    }
   },
   "outputs": [
    {
     "name": "stderr",
     "output_type": "stream",
     "text": [
      "22/02/01 13:03:33 WARN CSVHeaderChecker: Number of column in CSV header is not equal to number of fields in the schema:\n",
      " Header length: 5, schema size: 4\n",
      "CSV file: file:///home/oussama/Desktop/workspace/matrix_factorization_recommender/data/books_ratings.csv\n"
     ]
    },
    {
     "name": "stdout",
     "output_type": "stream",
     "text": [
      "+-------+-------+-------+------+\n",
      "|user_id|book_id|is_read|rating|\n",
      "+-------+-------+-------+------+\n",
      "|      0|    948|      1|   5.0|\n",
      "|      0|    947|      1|   5.0|\n",
      "|      0|    946|      1|   5.0|\n",
      "|      0|    945|      1|   5.0|\n",
      "|      0|    944|      1|   5.0|\n",
      "|      0|    943|      1|   5.0|\n",
      "|      0|    942|      1|   5.0|\n",
      "|      0|    941|      1|   5.0|\n",
      "|      0|    940|      1|   5.0|\n",
      "|      0|    939|      1|   5.0|\n",
      "|      0|    938|      1|   5.0|\n",
      "|      0|    937|      1|   4.0|\n",
      "|      0|    936|      1|   4.0|\n",
      "|      0|    935|      1|   4.0|\n",
      "|      0|    934|      1|   5.0|\n",
      "|      0|    933|      1|   4.0|\n",
      "|      0|    932|      1|   4.0|\n",
      "|      0|    931|      1|   5.0|\n",
      "|      0|    930|      1|   2.0|\n",
      "|      0|    929|      1|   4.0|\n",
      "+-------+-------+-------+------+\n",
      "only showing top 20 rows\n",
      "\n"
     ]
    },
    {
     "name": "stderr",
     "output_type": "stream",
     "text": [
      "                                                                                \r"
     ]
    }
   ],
   "source": [
    "ratings.show()"
   ]
  },
  {
   "cell_type": "code",
   "execution_count": 5,
   "metadata": {},
   "outputs": [
    {
     "name": "stderr",
     "output_type": "stream",
     "text": [
      "22/02/01 13:03:50 WARN CSVHeaderChecker: Number of column in CSV header is not equal to number of fields in the schema:\n",
      " Header length: 5, schema size: 4\n",
      "CSV file: file:///home/oussama/Desktop/workspace/matrix_factorization_recommender/data/books_ratings.csv\n",
      "22/02/01 13:03:56 WARN CSVHeaderChecker: Number of column in CSV header is not equal to number of fields in the schema:\n",
      " Header length: 5, schema size: 4\n",
      "CSV file: file:///home/oussama/Desktop/workspace/matrix_factorization_recommender/data/books_ratings.csv\n",
      "                                                                                \r"
     ]
    }
   ],
   "source": [
    "als = ALS(maxIter=5, regParam=0.01, userCol=\"user_id\", itemCol=\"book_id\", ratingCol=\"rating\",\n",
    "          coldStartStrategy=\"drop\")\n",
    "model = als.fit(training)"
   ]
  },
  {
   "cell_type": "code",
   "execution_count": 6,
   "metadata": {},
   "outputs": [
    {
     "name": "stderr",
     "output_type": "stream",
     "text": [
      "22/02/01 13:04:33 WARN CSVHeaderChecker: Number of column in CSV header is not equal to number of fields in the schema:\n",
      " Header length: 5, schema size: 4\n",
      "CSV file: file:///home/oussama/Desktop/workspace/matrix_factorization_recommender/data/books_ratings.csv\n",
      "[Stage 71:=============================>                            (2 + 2) / 4]\r"
     ]
    },
    {
     "name": "stdout",
     "output_type": "stream",
     "text": [
      "Root-mean-square error = 2.225046600971715\n"
     ]
    },
    {
     "name": "stderr",
     "output_type": "stream",
     "text": [
      "                                                                                \r"
     ]
    }
   ],
   "source": [
    "predictions = model.transform(test)\n",
    "evaluator = RegressionEvaluator(metricName=\"rmse\", labelCol=\"rating\",\n",
    "                                predictionCol=\"prediction\")\n",
    "rmse = evaluator.evaluate(predictions)\n",
    "print(\"Root-mean-square error = \" + str(rmse))"
   ]
  },
  {
   "cell_type": "code",
   "execution_count": 7,
   "metadata": {},
   "outputs": [
    {
     "name": "stderr",
     "output_type": "stream",
     "text": [
      "/home/oussama/.local/share/virtualenvs/matrix_factorization_recommender-qyAKTrSQ/lib/python3.9/site-packages/pyspark/sql/context.py:125: FutureWarning: Deprecated in 3.0.0. Use SparkSession.builder.getOrCreate() instead.\n",
      "  warnings.warn(\n"
     ]
    }
   ],
   "source": [
    "movieRecs = model.recommendForAllItems(1)"
   ]
  },
  {
   "cell_type": "code",
   "execution_count": 8,
   "metadata": {},
   "outputs": [
    {
     "name": "stderr",
     "output_type": "stream",
     "text": [
      "[Stage 85:=====================================================> (98 + 2) / 100]\r"
     ]
    },
    {
     "name": "stdout",
     "output_type": "stream",
     "text": [
      "+-------+-------------------+\n",
      "|book_id|    recommendations|\n",
      "+-------+-------------------+\n",
      "|      1|         [{0, 0.0}]|\n",
      "|     12|[{1775, 5.1165895}]|\n",
      "|     13|  [{58, 10.170677}]|\n",
      "|     22| [{545, 3.8608067}]|\n",
      "|     26| [{329, 5.6786933}]|\n",
      "|     27|         [{0, 0.0}]|\n",
      "|     28|  [{58, 12.186274}]|\n",
      "|     31|  [{58, 7.4835396}]|\n",
      "|     34|         [{0, 0.0}]|\n",
      "|     44|         [{0, 0.0}]|\n",
      "|     47|  [{181, 8.949086}]|\n",
      "|     52|[{1249, 4.8477545}]|\n",
      "|     53|[{1760, 14.496603}]|\n",
      "|     65|         [{0, 0.0}]|\n",
      "|     76|         [{0, 0.0}]|\n",
      "|     78|   [{509, 9.35182}]|\n",
      "|     81|         [{0, 0.0}]|\n",
      "|     85| [{545, 6.4346776}]|\n",
      "|     91|         [{0, 0.0}]|\n",
      "|     93|[{1111, 10.883413}]|\n",
      "+-------+-------------------+\n",
      "only showing top 20 rows\n",
      "\n"
     ]
    },
    {
     "name": "stderr",
     "output_type": "stream",
     "text": [
      "                                                                                \r"
     ]
    }
   ],
   "source": [
    "movieRecs.show()"
   ]
  },
  {
   "cell_type": "code",
   "execution_count": null,
   "metadata": {},
   "outputs": [],
   "source": []
  }
 ],
 "metadata": {
  "kernelspec": {
   "display_name": "Python 3 (ipykernel)",
   "language": "python",
   "name": "python3"
  },
  "language_info": {
   "codemirror_mode": {
    "name": "ipython",
    "version": 3
   },
   "file_extension": ".py",
   "mimetype": "text/x-python",
   "name": "python",
   "nbconvert_exporter": "python",
   "pygments_lexer": "ipython3",
   "version": "3.9.7"
  }
 },
 "nbformat": 4,
 "nbformat_minor": 4
}