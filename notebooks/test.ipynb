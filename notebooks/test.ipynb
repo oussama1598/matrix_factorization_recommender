{
 "cells": [
  {
   "cell_type": "code",
   "execution_count": 14,
   "metadata": {},
   "outputs": [],
   "source": [
    "from pyspark.ml.evaluation import RegressionEvaluator\n",
    "from pyspark.ml.recommendation import ALS\n",
    "from pyspark.sql import Row, SparkSession"
   ]
  },
  {
   "cell_type": "code",
   "execution_count": 15,
   "metadata": {
    "pycharm": {
     "name": "#%%\n"
    }
   },
   "outputs": [],
   "source": [
    "spark = SparkSession.builder.appName('Recommender-app').getOrCreate()"
   ]
  },
  {
   "cell_type": "code",
   "execution_count": 16,
   "metadata": {
    "pycharm": {
     "name": "#%%\n"
    }
   },
   "outputs": [],
   "source": [
    "from pyspark.sql.types import StructType, StructField, IntegerType, FloatType\n",
    "\n",
    "schema = StructType([\n",
    "    StructField(\"user_id\", IntegerType(), True),\n",
    "    StructField(\"book_id\", IntegerType(), True),\n",
    "    StructField(\"is_read\", IntegerType(), True),\n",
    "    StructField(\"rating\", FloatType(), True)])\n",
    "\n",
    "\n",
    "ratings = spark.read.csv(\"../data/books_ratings.csv\", header=True, schema=schema)"
   ]
  },
  {
   "cell_type": "code",
   "execution_count": 17,
   "metadata": {
    "pycharm": {
     "name": "#%%\n"
    }
   },
   "outputs": [
    {
     "name": "stdout",
     "output_type": "stream",
     "text": [
      "+-------+-------+-------+------+\n",
      "|user_id|book_id|is_read|rating|\n",
      "+-------+-------+-------+------+\n",
      "|      0|    948|      1|   5.0|\n",
      "|      0|    947|      1|   5.0|\n",
      "|      0|    946|      1|   5.0|\n",
      "|      0|    945|      1|   5.0|\n",
      "|      0|    944|      1|   5.0|\n",
      "|      0|    943|      1|   5.0|\n",
      "|      0|    942|      1|   5.0|\n",
      "|      0|    941|      1|   5.0|\n",
      "|      0|    940|      1|   5.0|\n",
      "|      0|    939|      1|   5.0|\n",
      "|      0|    938|      1|   5.0|\n",
      "|      0|    937|      1|   4.0|\n",
      "|      0|    936|      1|   4.0|\n",
      "|      0|    935|      1|   4.0|\n",
      "|      0|    934|      1|   5.0|\n",
      "|      0|    933|      1|   4.0|\n",
      "|      0|    932|      1|   4.0|\n",
      "|      0|    931|      1|   5.0|\n",
      "|      0|    930|      1|   2.0|\n",
      "|      0|    929|      1|   4.0|\n",
      "+-------+-------+-------+------+\n",
      "only showing top 20 rows\n",
      "\n"
     ]
    },
    {
     "name": "stderr",
     "output_type": "stream",
     "text": [
      "22/02/01 14:36:08 WARN CSVHeaderChecker: Number of column in CSV header is not equal to number of fields in the schema:\n",
      " Header length: 5, schema size: 4\n",
      "CSV file: file:///home/oussama/Desktop/workspace/matrix_factorization_recommender/data/books_ratings.csv\n"
     ]
    }
   ],
   "source": [
    "ratings.show()"
   ]
  },
  {
   "cell_type": "code",
   "execution_count": 18,
   "metadata": {},
   "outputs": [
    {
     "name": "stderr",
     "output_type": "stream",
     "text": [
      "                                                                                \r"
     ]
    }
   ],
   "source": [
    "als = ALS(maxIter=5, regParam=0.01, userCol=\"user_id\", itemCol=\"book_id\", ratingCol=\"rating\",\n",
    "          coldStartStrategy=\"drop\")\n",
    "model = als.fit(ratings)"
   ]
  },
  {
   "cell_type": "code",
   "execution_count": 6,
   "metadata": {},
   "outputs": [
    {
     "name": "stderr",
     "output_type": "stream",
     "text": [
      "22/02/01 13:04:33 WARN CSVHeaderChecker: Number of column in CSV header is not equal to number of fields in the schema:\n",
      " Header length: 5, schema size: 4\n",
      "CSV file: file:///home/oussama/Desktop/workspace/matrix_factorization_recommender/data/books_ratings.csv\n",
      "[Stage 71:=============================>                            (2 + 2) / 4]\r"
     ]
    },
    {
     "name": "stdout",
     "output_type": "stream",
     "text": [
      "Root-mean-square error = 2.225046600971715\n"
     ]
    },
    {
     "name": "stderr",
     "output_type": "stream",
     "text": [
      "                                                                                \r"
     ]
    }
   ],
   "source": [
    "# predictions = model.transform(test)\n",
    "# evaluator = RegressionEvaluator(metricName=\"rmse\", labelCol=\"rating\",\n",
    "#                                 predictionCol=\"prediction\")\n",
    "# rmse = evaluator.evaluate(predictions)\n",
    "# print(\"Root-mean-square error = \" + str(rmse))"
   ]
  },
  {
   "cell_type": "code",
   "execution_count": 7,
   "metadata": {},
   "outputs": [
    {
     "name": "stderr",
     "output_type": "stream",
     "text": [
      "/home/oussama/.local/share/virtualenvs/matrix_factorization_recommender-qyAKTrSQ/lib/python3.9/site-packages/pyspark/sql/context.py:125: FutureWarning: Deprecated in 3.0.0. Use SparkSession.builder.getOrCreate() instead.\n",
      "  warnings.warn(\n"
     ]
    }
   ],
   "source": [
    "# movieRecs = model.recommendForAllItems(1)"
   ]
  },
  {
   "cell_type": "code",
   "execution_count": 8,
   "metadata": {},
   "outputs": [
    {
     "name": "stderr",
     "output_type": "stream",
     "text": [
      "[Stage 85:=====================================================> (98 + 2) / 100]\r"
     ]
    },
    {
     "name": "stdout",
     "output_type": "stream",
     "text": [
      "+-------+-------------------+\n",
      "|book_id|    recommendations|\n",
      "+-------+-------------------+\n",
      "|      1|         [{0, 0.0}]|\n",
      "|     12|[{1775, 5.1165895}]|\n",
      "|     13|  [{58, 10.170677}]|\n",
      "|     22| [{545, 3.8608067}]|\n",
      "|     26| [{329, 5.6786933}]|\n",
      "|     27|         [{0, 0.0}]|\n",
      "|     28|  [{58, 12.186274}]|\n",
      "|     31|  [{58, 7.4835396}]|\n",
      "|     34|         [{0, 0.0}]|\n",
      "|     44|         [{0, 0.0}]|\n",
      "|     47|  [{181, 8.949086}]|\n",
      "|     52|[{1249, 4.8477545}]|\n",
      "|     53|[{1760, 14.496603}]|\n",
      "|     65|         [{0, 0.0}]|\n",
      "|     76|         [{0, 0.0}]|\n",
      "|     78|   [{509, 9.35182}]|\n",
      "|     81|         [{0, 0.0}]|\n",
      "|     85| [{545, 6.4346776}]|\n",
      "|     91|         [{0, 0.0}]|\n",
      "|     93|[{1111, 10.883413}]|\n",
      "+-------+-------------------+\n",
      "only showing top 20 rows\n",
      "\n"
     ]
    },
    {
     "name": "stderr",
     "output_type": "stream",
     "text": [
      "                                                                                \r"
     ]
    }
   ],
   "source": [
    "# movieRecs.show()"
   ]
  },
  {
   "cell_type": "code",
   "execution_count": 19,
   "outputs": [],
   "source": [
    "import pandas as pd\n",
    "\n",
    "df_user_0 = pd.DataFrame([0], columns=['user_id'])"
   ],
   "metadata": {
    "collapsed": false,
    "pycharm": {
     "name": "#%%\n"
    }
   }
  },
  {
   "cell_type": "code",
   "execution_count": 20,
   "outputs": [
    {
     "data": {
      "text/plain": "   user_id\n0        0",
      "text/html": "<div>\n<style scoped>\n    .dataframe tbody tr th:only-of-type {\n        vertical-align: middle;\n    }\n\n    .dataframe tbody tr th {\n        vertical-align: top;\n    }\n\n    .dataframe thead th {\n        text-align: right;\n    }\n</style>\n<table border=\"1\" class=\"dataframe\">\n  <thead>\n    <tr style=\"text-align: right;\">\n      <th></th>\n      <th>user_id</th>\n    </tr>\n  </thead>\n  <tbody>\n    <tr>\n      <th>0</th>\n      <td>0</td>\n    </tr>\n  </tbody>\n</table>\n</div>"
     },
     "execution_count": 20,
     "metadata": {},
     "output_type": "execute_result"
    }
   ],
   "source": [
    "df_user_0.head()"
   ],
   "metadata": {
    "collapsed": false,
    "pycharm": {
     "name": "#%%\n"
    }
   }
  },
  {
   "cell_type": "code",
   "execution_count": 23,
   "outputs": [
    {
     "name": "stderr",
     "output_type": "stream",
     "text": [
      "/home/oussama/.local/share/virtualenvs/matrix_factorization_recommender-qyAKTrSQ/lib/python3.9/site-packages/pyspark/sql/context.py:125: FutureWarning: Deprecated in 3.0.0. Use SparkSession.builder.getOrCreate() instead.\n",
      "  warnings.warn(\n"
     ]
    }
   ],
   "source": [
    "user_0_ratings = model.recommendForUserSubset(spark.createDataFrame(pd.DataFrame([0], columns=['user_id'])), 10)"
   ],
   "metadata": {
    "collapsed": false,
    "pycharm": {
     "name": "#%%\n"
    }
   }
  },
  {
   "cell_type": "code",
   "execution_count": null,
   "outputs": [],
   "source": [
    "from pyspark.sql.functions import explode\n",
    "\n",
    "user_0_ratings.select(\"user_id\", explode(\"recommendations\")\n",
    "  .alias(\"recommendation\")).select(\"user_id\", \"recommendation.*\").drop('user_id').toPandas()"
   ],
   "metadata": {
    "collapsed": false,
    "pycharm": {
     "name": "#%%\n"
    }
   }
  },
  {
   "cell_type": "code",
   "execution_count": 111,
   "outputs": [
    {
     "name": "stderr",
     "output_type": "stream",
     "text": [
      "                                                                                \r"
     ]
    },
    {
     "data": {
      "text/plain": "11.715402603149414"
     },
     "execution_count": 111,
     "metadata": {},
     "output_type": "execute_result"
    }
   ],
   "source": [
    "user_0_ratings.select(\"recommendations.book_id\", \"recommendations.rating\").first().rating[0]"
   ],
   "metadata": {
    "collapsed": false,
    "pycharm": {
     "name": "#%%\n"
    }
   }
  },
  {
   "cell_type": "code",
   "execution_count": 102,
   "outputs": [
    {
     "name": "stderr",
     "output_type": "stream",
     "text": [
      "                                                                                \r"
     ]
    },
    {
     "data": {
      "text/plain": "'{\"book_id\":{\"0\":146016,\"1\":18787,\"2\":101359,\"3\":76684,\"4\":89758,\"5\":83432,\"6\":76414,\"7\":173268,\"8\":50156,\"9\":116020},\"rating\":{\"0\":11.7154026031,\"1\":10.4560403824,\"2\":10.2674369812,\"3\":10.2039899826,\"4\":10.1534767151,\"5\":9.6832637787,\"6\":9.5981225967,\"7\":9.5338859558,\"8\":9.5289888382,\"9\":9.5102005005}}'"
     },
     "execution_count": 102,
     "metadata": {},
     "output_type": "execute_result"
    }
   ],
   "source": [],
   "metadata": {
    "collapsed": false,
    "pycharm": {
     "name": "#%%\n"
    }
   }
  }
 ],
 "metadata": {
  "kernelspec": {
   "display_name": "Python 3 (ipykernel)",
   "language": "python",
   "name": "python3"
  },
  "language_info": {
   "codemirror_mode": {
    "name": "ipython",
    "version": 3
   },
   "file_extension": ".py",
   "mimetype": "text/x-python",
   "name": "python",
   "nbconvert_exporter": "python",
   "pygments_lexer": "ipython3",
   "version": "3.9.7"
  }
 },
 "nbformat": 4,
 "nbformat_minor": 4
}